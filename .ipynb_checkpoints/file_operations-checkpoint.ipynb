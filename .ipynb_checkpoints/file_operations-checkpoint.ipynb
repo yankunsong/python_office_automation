{
 "cells": [
  {
   "cell_type": "code",
   "execution_count": 1,
   "id": "cba77068",
   "metadata": {},
   "outputs": [],
   "source": [
    "import os"
   ]
  },
  {
   "cell_type": "code",
   "execution_count": 2,
   "id": "ca68c4c8",
   "metadata": {},
   "outputs": [
    {
     "name": "stdout",
     "output_type": "stream",
     "text": [
      "C:\\Users\\Yankun\\Desktop\\python_office_automation\n"
     ]
    }
   ],
   "source": [
    "# 获取当前路径\n",
    "print(os.getcwd())  # current working directory"
   ]
  },
  {
   "cell_type": "code",
   "execution_count": 3,
   "id": "04bb0caa",
   "metadata": {},
   "outputs": [
    {
     "name": "stdout",
     "output_type": "stream",
     "text": [
      "A\\B\\C\n"
     ]
    }
   ],
   "source": [
    "## 文件路径的连接\n",
    "print(os.path.join(\"A\", \"B\", \"C\"))"
   ]
  },
  {
   "cell_type": "code",
   "execution_count": 10,
   "id": "4db538fe",
   "metadata": {},
   "outputs": [
    {
     "name": "stdout",
     "output_type": "stream",
     "text": [
      "['.git', '.ipynb_checkpoints', 'python_office_automation_notes.md', 'README.md', 'Untitled.ipynb']\n",
      "['.ipynb_checkpoints', 'etc.txt', 'output.xlsx', 'script.ipynb', 'social network.txt', '만족을주는.txt', '차별성.txt', '큐커_insta.xlsx', '품질.txt', '혁신성.txt']\n"
     ]
    }
   ],
   "source": [
    "## 列出当前路径下所有文件\n",
    "print(os.listdir())\n",
    "print(os.listdir('C:\\\\Users\\\\Yankun\\\\Desktop\\\\work'))"
   ]
  },
  {
   "cell_type": "code",
   "execution_count": 8,
   "id": "04a2fc54",
   "metadata": {},
   "outputs": [
    {
     "name": "stdout",
     "output_type": "stream",
     "text": [
      ".git .\\.git True\n",
      ".ipynb_checkpoints .\\.ipynb_checkpoints True\n",
      "python_office_automation_notes.md .\\python_office_automation_notes.md False\n",
      "README.md .\\README.md False\n",
      "Untitled.ipynb .\\Untitled.ipynb False\n"
     ]
    }
   ],
   "source": [
    "## 判断是否是文件夹\n",
    "for file in os.scandir():\n",
    "    print(file.name, file.path, file.is_dir())"
   ]
  },
  {
   "cell_type": "code",
   "execution_count": 14,
   "id": "4b348a26",
   "metadata": {},
   "outputs": [
    {
     "name": "stdout",
     "output_type": "stream",
     "text": [
      ".//\n",
      "---\n",
      ".//.git\n",
      "---\n",
      ".//.git\\hooks\n",
      "---\n",
      ".//.git\\info\n",
      "---\n",
      ".//.git\\logs\n",
      "---\n",
      ".//.git\\logs\\refs\n",
      "---\n",
      ".//.git\\logs\\refs\\heads\n",
      "---\n",
      ".//.git\\logs\\refs\\remotes\n",
      "---\n",
      ".//.git\\logs\\refs\\remotes\\origin\n",
      "---\n",
      ".//.git\\objects\n",
      "---\n",
      ".//.git\\objects\\info\n",
      "---\n",
      ".//.git\\objects\\pack\n",
      "---\n",
      ".//.git\\refs\n",
      "---\n",
      ".//.git\\refs\\heads\n",
      "---\n",
      ".//.git\\refs\\remotes\n",
      "---\n",
      ".//.git\\refs\\remotes\\origin\n",
      "---\n",
      ".//.git\\refs\\tags\n",
      "---\n",
      ".//.ipynb_checkpoints\n",
      "---\n"
     ]
    }
   ],
   "source": [
    "## 遍历所有子文件\n",
    "for dirpath, dirname, filename in os.walk('.//'):\n",
    "    print(dirpath)\n",
    "    print('---')"
   ]
  },
  {
   "cell_type": "code",
   "execution_count": 17,
   "id": "32c621e8",
   "metadata": {},
   "outputs": [
    {
     "name": "stdout",
     "output_type": "stream",
     "text": [
      "['Untitled.ipynb']\n",
      "True\n"
     ]
    }
   ],
   "source": [
    "## 文件查找\n",
    "\n",
    "### 1. 使用字符串内置方法 .startswith(), .endswith()\n",
    "\n",
    "### 2. glob模块\n",
    "import glob\n",
    "print(glob.glob('*.ipynb', recursive=True))  # 子文件也找\n",
    "\n",
    "### 3. fnmatch判断是否符合\n",
    "import fnmatch\n",
    "print(fnmatch.fnmatch('maker', 'm*r'))"
   ]
  },
  {
   "cell_type": "code",
   "execution_count": 20,
   "id": "09a711da",
   "metadata": {},
   "outputs": [
    {
     "name": "stdout",
     "output_type": "stream",
     "text": [
      "os.stat_result(st_mode=33206, st_ino=3940649674855503, st_dev=2997351373, st_nlink=1, st_uid=0, st_gid=0, st_size=6036, st_atime=1665348440, st_mtime=1665348439, st_ctime=1665346517)\n",
      "1665346517.926647\n"
     ]
    }
   ],
   "source": [
    "## 查询文件信息\n",
    "print(os.stat('file_operations.ipynb'))\n",
    "print(os.stat('file_operations.ipynb').st_ctime)"
   ]
  },
  {
   "cell_type": "code",
   "execution_count": 21,
   "id": "4bb674de",
   "metadata": {},
   "outputs": [
    {
     "name": "stdout",
     "output_type": "stream",
     "text": [
      "['line1\\n', 'line2\\n']\n"
     ]
    }
   ],
   "source": [
    "## 打开文件\n",
    "with open('file1.txt', 'r', encoding='utf-8') as f:\n",
    "    text = f.readlines()\n",
    "    print(text)"
   ]
  },
  {
   "cell_type": "code",
   "execution_count": 23,
   "id": "383b88dc",
   "metadata": {},
   "outputs": [],
   "source": [
    "## 写入文件\n",
    "with open('file1.txt', 'a', encoding='utf-8') as f:\n",
    "    text = \"lineX\"\n",
    "    f.write(text)"
   ]
  },
  {
   "cell_type": "code",
   "execution_count": 24,
   "id": "003a41bd",
   "metadata": {},
   "outputs": [
    {
     "name": "stdout",
     "output_type": "stream",
     "text": [
      "['hello!']\n"
     ]
    }
   ],
   "source": [
    "## 使用临时文件\n",
    "from tempfile import TemporaryFile\n",
    "with TemporaryFile('w+') as f:\n",
    "    f.write('hello!')\n",
    "    f.seek(0)  # 光标回到开头\n",
    "    data = f.readlines()\n",
    "    print(data)"
   ]
  },
  {
   "cell_type": "code",
   "execution_count": 28,
   "id": "8172e721",
   "metadata": {},
   "outputs": [
    {
     "name": "stdout",
     "output_type": "stream",
     "text": [
      "Already exists!\n"
     ]
    }
   ],
   "source": [
    "## 创建文件夹\n",
    "if not os.path.exists('new_folder'):\n",
    "    os.mkdir('new_folder')\n",
    "else:\n",
    "    print(\"Already exists!\")"
   ]
  },
  {
   "cell_type": "code",
   "execution_count": 29,
   "id": "f0a48b23",
   "metadata": {},
   "outputs": [],
   "source": [
    "os.makedirs('levelA/levelB')"
   ]
  },
  {
   "cell_type": "code",
   "execution_count": 32,
   "id": "e66942e4",
   "metadata": {},
   "outputs": [
    {
     "data": {
      "text/plain": [
       "'./copiedFiles/file1_copy.txt'"
      ]
     },
     "execution_count": 32,
     "metadata": {},
     "output_type": "execute_result"
    }
   ],
   "source": [
    "## 复制文件\n",
    "import shutil\n",
    "shutil.copy('file1.txt', './copiedFiles')\n",
    "shutil.copy('file1.txt', './copiedFiles/file1_copy.txt')  # 复制且重命名"
   ]
  },
  {
   "cell_type": "code",
   "execution_count": 33,
   "id": "9f0e94b1",
   "metadata": {},
   "outputs": [
    {
     "data": {
      "text/plain": [
       "'copyOfCopiedFiles'"
      ]
     },
     "execution_count": 33,
     "metadata": {},
     "output_type": "execute_result"
    }
   ],
   "source": [
    "## 复制文件夹\n",
    "shutil.copytree('copiedFiles', 'copyOfCopiedFiles')"
   ]
  },
  {
   "cell_type": "code",
   "execution_count": null,
   "id": "e3ef3249",
   "metadata": {},
   "outputs": [],
   "source": []
  }
 ],
 "metadata": {
  "kernelspec": {
   "display_name": "Python 3",
   "language": "python",
   "name": "python3"
  },
  "language_info": {
   "codemirror_mode": {
    "name": "ipython",
    "version": 3
   },
   "file_extension": ".py",
   "mimetype": "text/x-python",
   "name": "python",
   "nbconvert_exporter": "python",
   "pygments_lexer": "ipython3",
   "version": "3.8.8"
  }
 },
 "nbformat": 4,
 "nbformat_minor": 5
}
